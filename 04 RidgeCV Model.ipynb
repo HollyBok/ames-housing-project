{
 "cells": [
  {
   "cell_type": "markdown",
   "metadata": {},
   "source": [
    "# RidgeCV Model"
   ]
  },
  {
   "cell_type": "markdown",
   "metadata": {},
   "source": [
    "#### Data Import / Cleaning / Scaling"
   ]
  },
  {
   "cell_type": "markdown",
   "metadata": {},
   "source": [
    "The code under this subheader is taken from the '03 LASSO Model' file of this repository. Details on each step can be found in the comments there. "
   ]
  },
  {
   "cell_type": "code",
   "execution_count": 1,
   "metadata": {},
   "outputs": [],
   "source": [
    "import pandas as pd\n",
    "import matplotlib.pyplot as plt\n",
    "import numpy as np\n",
    "from sklearn.linear_model import LassoCV, Ridge\n",
    "from sklearn.model_selection import train_test_split, cross_val_score\n",
    "from sklearn.preprocessing import PolynomialFeatures, StandardScaler\n",
    "\n",
    "from sklearn.linear_model import RidgeCV"
   ]
  },
  {
   "cell_type": "code",
   "execution_count": 2,
   "metadata": {},
   "outputs": [],
   "source": [
    "train = pd.read_csv('datasets/clean_train.csv')\n",
    "test = pd.read_csv('datasets/test.csv')"
   ]
  },
  {
   "cell_type": "code",
   "execution_count": 3,
   "metadata": {},
   "outputs": [],
   "source": [
    "train.drop([960], axis=0, inplace= True) \n",
    "train.drop([1885], axis=0, inplace= True)\n",
    "train.drop([1409], axis=0, inplace= True)\n",
    "train.drop([1566], axis=0, inplace= True)\n",
    "train.drop([1605], axis=0, inplace= True)\n",
    "train.drop([1035], axis=0, inplace= True)\n",
    "train.drop([1141], axis=0, inplace= True)\n",
    "train.drop([1939], axis=0, inplace= True)"
   ]
  },
  {
   "cell_type": "code",
   "execution_count": 4,
   "metadata": {},
   "outputs": [],
   "source": [
    "numeric_columns = train._get_numeric_data().columns\n",
    "numeric_train = train[numeric_columns]\n",
    "numeric_train = numeric_train.fillna(0)"
   ]
  },
  {
   "cell_type": "code",
   "execution_count": 5,
   "metadata": {},
   "outputs": [],
   "source": [
    "X = numeric_train.drop(columns=['SalePrice'])\n",
    "y = numeric_train['SalePrice']\n",
    "X_train, X_test, y_train, y_test = train_test_split(X, y, random_state=42)"
   ]
  },
  {
   "cell_type": "code",
   "execution_count": 6,
   "metadata": {},
   "outputs": [],
   "source": [
    "pf = PolynomialFeatures(include_bias=False)\n",
    "pf.fit(X_train);"
   ]
  },
  {
   "cell_type": "code",
   "execution_count": 7,
   "metadata": {},
   "outputs": [],
   "source": [
    "X_train_pf = pf.transform(X_train)\n",
    "X_test_pf = pf.transform(X_test)"
   ]
  },
  {
   "cell_type": "code",
   "execution_count": 8,
   "metadata": {},
   "outputs": [],
   "source": [
    "ss = StandardScaler()\n",
    "ss.fit(X_train_pf);"
   ]
  },
  {
   "cell_type": "code",
   "execution_count": 9,
   "metadata": {},
   "outputs": [],
   "source": [
    "X_train_pfs = ss.transform(X_train_pf)\n",
    "X_test_pfs = ss.transform(X_test_pf)"
   ]
  },
  {
   "cell_type": "markdown",
   "metadata": {},
   "source": [
    "#### Fitting to RidgeCV Model"
   ]
  },
  {
   "cell_type": "code",
   "execution_count": 10,
   "metadata": {},
   "outputs": [],
   "source": [
    "# Creating a range of possible values for the alpha hyperparameter\n",
    "\n",
    "ridge_alphas = np.logspace(0,5,100)"
   ]
  },
  {
   "cell_type": "code",
   "execution_count": 11,
   "metadata": {},
   "outputs": [
    {
     "data": {
      "text/plain": [
       "RidgeCV(alphas=array([1.00000000e+00, 1.12332403e+00, 1.26185688e+00, 1.41747416e+00,\n",
       "       1.59228279e+00, 1.78864953e+00, 2.00923300e+00, 2.25701972e+00,\n",
       "       2.53536449e+00, 2.84803587e+00, 3.19926714e+00, 3.59381366e+00,\n",
       "       4.03701726e+00, 4.53487851e+00, 5.09413801e+00, 5.72236766e+00,\n",
       "       6.42807312e+00, 7.22080902e+00, 8.11130831e+00, 9.11162756e+00,\n",
       "       1.02353102e+01, 1.14975700e+0...\n",
       "       1.09749877e+04, 1.23284674e+04, 1.38488637e+04, 1.55567614e+04,\n",
       "       1.74752840e+04, 1.96304065e+04, 2.20513074e+04, 2.47707636e+04,\n",
       "       2.78255940e+04, 3.12571585e+04, 3.51119173e+04, 3.94420606e+04,\n",
       "       4.43062146e+04, 4.97702356e+04, 5.59081018e+04, 6.28029144e+04,\n",
       "       7.05480231e+04, 7.92482898e+04, 8.90215085e+04, 1.00000000e+05]),\n",
       "        cv=5, fit_intercept=True, gcv_mode=None, normalize=False, scoring='r2',\n",
       "        store_cv_values=False)"
      ]
     },
     "execution_count": 11,
     "metadata": {},
     "output_type": "execute_result"
    }
   ],
   "source": [
    "# Instantiating an fitting a RidgeCV model, 'ridge_cv'\n",
    "\n",
    "ridge_cv = RidgeCV(\n",
    "    alphas = ridge_alphas,\n",
    "    scoring='r2',\n",
    "    cv=5)\n",
    "ridge_cv.fit(X_train_pfs, y_train)"
   ]
  },
  {
   "cell_type": "code",
   "execution_count": 12,
   "metadata": {},
   "outputs": [],
   "source": [
    "# Creating a new dataframe, #r_coef to show the coefficients of each feature\n",
    "\n",
    "r_coef = pd.DataFrame({\n",
    "    'feature': pf.get_feature_names(numeric_columns),\n",
    "    'coef': ridge_cv.coef_\n",
    "})\n"
   ]
  },
  {
   "cell_type": "code",
   "execution_count": 13,
   "metadata": {},
   "outputs": [
    {
     "data": {
      "image/png": "[encoded data removed]",
      "text/plain": [
       "<Figure size 432x288 with 1 Axes>"
      ]
     },
     "metadata": {
      "needs_background": "light"
     },
     "output_type": "display_data"
    }
   ],
   "source": [
    "#Exploring the distribution of coefficients\n",
    "\n",
    "plt.hist(r_coef['coef'], bins=20);"
   ]
  },
  {
   "cell_type": "code",
   "execution_count": 14,
   "metadata": {},
   "outputs": [
    {
     "data": {
      "text/html": [
       "<div>\n",
       "<style scoped>\n",
       "    .dataframe tbody tr th:only-of-type {\n",
       "        vertical-align: middle;\n",
       "    }\n",
       "\n",
       "    .dataframe tbody tr th {\n",
       "        vertical-align: top;\n",
       "    }\n",
       "\n",
       "    .dataframe thead th {\n",
       "        text-align: right;\n",
       "    }\n",
       "</style>\n",
       "<table border=\"1\" class=\"dataframe\">\n",
       "  <thead>\n",
       "    <tr style=\"text-align: right;\">\n",
       "      <th></th>\n",
       "      <th>feature</th>\n",
       "      <th>coef</th>\n",
       "    </tr>\n",
       "  </thead>\n",
       "  <tbody>\n",
       "    <tr>\n",
       "      <th>295</th>\n",
       "      <td>Overall Qual Total Bsmt SF</td>\n",
       "      <td>2008.168115</td>\n",
       "    </tr>\n",
       "    <tr>\n",
       "      <th>284</th>\n",
       "      <td>Overall Qual^2</td>\n",
       "      <td>1984.131176</td>\n",
       "    </tr>\n",
       "    <tr>\n",
       "      <th>292</th>\n",
       "      <td>Overall Qual BsmtFin SF 1</td>\n",
       "      <td>1975.450041</td>\n",
       "    </tr>\n",
       "    <tr>\n",
       "      <th>467</th>\n",
       "      <td>Mas Vnr Area Bsmt Full Bath</td>\n",
       "      <td>1934.934129</td>\n",
       "    </tr>\n",
       "    <tr>\n",
       "      <th>722</th>\n",
       "      <td>Total Bsmt SF Half Bath</td>\n",
       "      <td>1798.384143</td>\n",
       "    </tr>\n",
       "    <tr>\n",
       "      <th>502</th>\n",
       "      <td>Exter Qual 1st Flr SF</td>\n",
       "      <td>1791.340085</td>\n",
       "    </tr>\n",
       "    <tr>\n",
       "      <th>371</th>\n",
       "      <td>Year Built^2</td>\n",
       "      <td>1787.638110</td>\n",
       "    </tr>\n",
       "    <tr>\n",
       "      <th>7</th>\n",
       "      <td>Year Built</td>\n",
       "      <td>1783.555355</td>\n",
       "    </tr>\n",
       "    <tr>\n",
       "      <th>412</th>\n",
       "      <td>Year Built Yr Sold</td>\n",
       "      <td>1780.378017</td>\n",
       "    </tr>\n",
       "    <tr>\n",
       "      <th>620</th>\n",
       "      <td>BsmtFin SF 1 Half Bath</td>\n",
       "      <td>1755.932817</td>\n",
       "    </tr>\n",
       "  </tbody>\n",
       "</table>\n",
       "</div>"
      ],
      "text/plain": [
       "                         feature         coef\n",
       "295   Overall Qual Total Bsmt SF  2008.168115\n",
       "284               Overall Qual^2  1984.131176\n",
       "292    Overall Qual BsmtFin SF 1  1975.450041\n",
       "467  Mas Vnr Area Bsmt Full Bath  1934.934129\n",
       "722      Total Bsmt SF Half Bath  1798.384143\n",
       "502        Exter Qual 1st Flr SF  1791.340085\n",
       "371                 Year Built^2  1787.638110\n",
       "7                     Year Built  1783.555355\n",
       "412           Year Built Yr Sold  1780.378017\n",
       "620       BsmtFin SF 1 Half Bath  1755.932817"
      ]
     },
     "execution_count": 14,
     "metadata": {},
     "output_type": "execute_result"
    }
   ],
   "source": [
    "# Displaying the largest 10 negative and positive coefficients \n",
    "\n",
    "r_coef.sort_values('coef', ascending=False).head(10)"
   ]
  },
  {
   "cell_type": "code",
   "execution_count": 15,
   "metadata": {},
   "outputs": [
    {
     "data": {
      "text/html": [
       "<div>\n",
       "<style scoped>\n",
       "    .dataframe tbody tr th:only-of-type {\n",
       "        vertical-align: middle;\n",
       "    }\n",
       "\n",
       "    .dataframe tbody tr th {\n",
       "        vertical-align: top;\n",
       "    }\n",
       "\n",
       "    .dataframe thead th {\n",
       "        text-align: right;\n",
       "    }\n",
       "</style>\n",
       "<table border=\"1\" class=\"dataframe\">\n",
       "  <thead>\n",
       "    <tr style=\"text-align: right;\">\n",
       "      <th></th>\n",
       "      <th>feature</th>\n",
       "      <th>coef</th>\n",
       "    </tr>\n",
       "  </thead>\n",
       "  <tbody>\n",
       "    <tr>\n",
       "      <th>183</th>\n",
       "      <td>MS SubClass Wood Deck SF</td>\n",
       "      <td>-1181.657277</td>\n",
       "    </tr>\n",
       "    <tr>\n",
       "      <th>159</th>\n",
       "      <td>MS SubClass Bsmt Unf SF</td>\n",
       "      <td>-1209.294604</td>\n",
       "    </tr>\n",
       "    <tr>\n",
       "      <th>484</th>\n",
       "      <td>Mas Vnr Area Wood Deck SF</td>\n",
       "      <td>-1284.957987</td>\n",
       "    </tr>\n",
       "    <tr>\n",
       "      <th>137</th>\n",
       "      <td>PID Open Porch SF</td>\n",
       "      <td>-1300.338231</td>\n",
       "    </tr>\n",
       "    <tr>\n",
       "      <th>1229</th>\n",
       "      <td>Open Porch SF^2</td>\n",
       "      <td>-1316.541257</td>\n",
       "    </tr>\n",
       "    <tr>\n",
       "      <th>147</th>\n",
       "      <td>MS SubClass Lot Frontage</td>\n",
       "      <td>-1353.096506</td>\n",
       "    </tr>\n",
       "    <tr>\n",
       "      <th>179</th>\n",
       "      <td>MS SubClass Garage Area</td>\n",
       "      <td>-1424.377848</td>\n",
       "    </tr>\n",
       "    <tr>\n",
       "      <th>456</th>\n",
       "      <td>Mas Vnr Area Exter Cond</td>\n",
       "      <td>-1641.678741</td>\n",
       "    </tr>\n",
       "    <tr>\n",
       "      <th>974</th>\n",
       "      <td>Half Bath^2</td>\n",
       "      <td>-1663.640896</td>\n",
       "    </tr>\n",
       "    <tr>\n",
       "      <th>621</th>\n",
       "      <td>BsmtFin SF 1 Bedroom AbvGr</td>\n",
       "      <td>-1709.439573</td>\n",
       "    </tr>\n",
       "  </tbody>\n",
       "</table>\n",
       "</div>"
      ],
      "text/plain": [
       "                         feature         coef\n",
       "183     MS SubClass Wood Deck SF -1181.657277\n",
       "159      MS SubClass Bsmt Unf SF -1209.294604\n",
       "484    Mas Vnr Area Wood Deck SF -1284.957987\n",
       "137            PID Open Porch SF -1300.338231\n",
       "1229             Open Porch SF^2 -1316.541257\n",
       "147     MS SubClass Lot Frontage -1353.096506\n",
       "179      MS SubClass Garage Area -1424.377848\n",
       "456      Mas Vnr Area Exter Cond -1641.678741\n",
       "974                  Half Bath^2 -1663.640896\n",
       "621   BsmtFin SF 1 Bedroom AbvGr -1709.439573"
      ]
     },
     "execution_count": 15,
     "metadata": {},
     "output_type": "execute_result"
    }
   ],
   "source": [
    "r_coef.sort_values('coef', ascending=False).tail(10)"
   ]
  },
  {
   "cell_type": "code",
   "execution_count": 16,
   "metadata": {},
   "outputs": [
    {
     "name": "stderr",
     "output_type": "stream",
     "text": [
      "/opt/anaconda3/lib/python3.7/site-packages/sklearn/model_selection/_search.py:814: DeprecationWarning: The default of the `iid` parameter will change from True to False in version 0.22 and will be removed in 0.24. This will change numeric results when test-set sizes are unequal.\n",
      "  DeprecationWarning)\n"
     ]
    },
    {
     "data": {
      "text/plain": [
       "array([0.9108315 , 0.92195971, 0.92321942])"
      ]
     },
     "execution_count": 16,
     "metadata": {},
     "output_type": "execute_result"
    }
   ],
   "source": [
    "# Finding the cross_val_score with 3 folds\n",
    "\n",
    "cross_val_score(ridge_cv, X_train_pfs, y_train, cv=3)#.mean()"
   ]
  },
  {
   "cell_type": "code",
   "execution_count": 17,
   "metadata": {},
   "outputs": [
    {
     "data": {
      "text/plain": [
       "(0.9489131628557989, 0.9012429045500537)"
      ]
     },
     "execution_count": 17,
     "metadata": {},
     "output_type": "execute_result"
    }
   ],
   "source": [
    "# Scoring the training and testing subsets\n",
    "\n",
    "ridge_cv.fit(X_train_pfs, y_train)\n",
    "ridge_cv.score(X_train_pfs, y_train), ridge_cv.score(X_test_pfs, y_test)"
   ]
  },
  {
   "cell_type": "code",
   "execution_count": 18,
   "metadata": {},
   "outputs": [],
   "source": [
    "# Converting the test dataframe columns to match train dataframe\n",
    "\n",
    "test['PID'] = test['PID'].astype(object)\n",
    "\n",
    "def rank_test_column(column):   \n",
    "    test[column] = test[column].str.replace('Ex', '5')\n",
    "    test[column] = test[column].str.replace('Gd', '4')\n",
    "    test[column] = test[column].str.replace('TA', '3')\n",
    "    test[column] = test[column].str.replace('Fa', '2')\n",
    "    test[column] = test[column].str.replace('Po', '1')\n",
    "    test[column] = test[column].fillna(0)\n",
    "    test[column] = test[column].astype(int)\n",
    "    return\n",
    "\n",
    "rank_test_column('Exter Qual')\n",
    "rank_test_column('Exter Cond')\n",
    "rank_test_column('Heating QC')\n",
    "rank_test_column('Kitchen Qual')\n",
    "rank_test_column('Garage Qual')\n",
    "rank_test_column('Garage Cond')\n",
    "rank_test_column('Pool QC')\n",
    "rank_test_column('Bsmt Cond')"
   ]
  },
  {
   "cell_type": "code",
   "execution_count": 19,
   "metadata": {},
   "outputs": [],
   "source": [
    "test['Paved Drive'] = test['Paved Drive'].str.replace('Y', '3')\n",
    "test['Paved Drive'] = test['Paved Drive'].str.replace('P', '2')\n",
    "test['Paved Drive'] = test['Paved Drive'].str.replace('N', '1')\n",
    "test['Paved Drive'] = test['Paved Drive'].astype(int)"
   ]
  },
  {
   "cell_type": "code",
   "execution_count": 20,
   "metadata": {},
   "outputs": [],
   "source": [
    "test['Functional'] = test['Functional'].str.replace('Typ', '6')\n",
    "test['Functional'] = test['Functional'].str.replace('Min2', '5')\n",
    "test['Functional'] = test['Functional'].str.replace('Min1', '5')\n",
    "test['Functional'] = test['Functional'].str.replace('Mod', '4')\n",
    "test['Functional'] = test['Functional'].str.replace('Maj1', '3')\n",
    "test['Functional'] = test['Functional'].str.replace('Maj2', '3')\n",
    "test['Functional'] = test['Functional'].str.replace('Sev', '2')\n",
    "test['Functional'] = test['Functional'].str.replace('Sal', '1')\n",
    "test['Functional'] = test['Functional'].astype(int)"
   ]
  },
  {
   "cell_type": "code",
   "execution_count": 21,
   "metadata": {},
   "outputs": [],
   "source": [
    "test['Garage Finish'] = test['Garage Finish'].str.replace('Fin', '3')\n",
    "test['Garage Finish'] = test['Garage Finish'].str.replace('RFn', '2')\n",
    "test['Garage Finish'] = test['Garage Finish'].str.replace('Unf', '1')\n",
    "test['Garage Finish'] = test['Garage Finish'].fillna(0)\n",
    "test['Garage Finish'] = test['Garage Finish'].astype(int)"
   ]
  },
  {
   "cell_type": "code",
   "execution_count": 22,
   "metadata": {},
   "outputs": [],
   "source": [
    "# Creating a list of features equal to the independent variables.\n",
    "# Creating a new dataframe called test_numeric by masking the original test dataframe with \"features\"\n",
    "# Filling NaN values with 0 to match training dataset\n",
    "\n",
    "features = numeric_columns.drop(['SalePrice'])\n",
    "test_numeric = test[features]\n",
    "test_numeric = test_numeric.fillna(0)"
   ]
  },
  {
   "cell_type": "code",
   "execution_count": 23,
   "metadata": {},
   "outputs": [],
   "source": [
    "# Transforming test_numeric using polynomial transformation and standard scaler\n",
    "\n",
    "test_numeric_pf = pf.transform(test_numeric)\n",
    "test_numeric_pfs = ss.transform(test_numeric_pf)"
   ]
  },
  {
   "cell_type": "code",
   "execution_count": 24,
   "metadata": {},
   "outputs": [],
   "source": [
    "# Generating predictions and saving predictions as a new column\n",
    "\n",
    "predictions = ridge_cv.predict(test_numeric_pfs)\n",
    "test['SalePrice'] = predictions"
   ]
  },
  {
   "cell_type": "code",
   "execution_count": 25,
   "metadata": {},
   "outputs": [],
   "source": [
    "# Writing csv file with Lasso predictions\n",
    "\n",
    "holly_predictions = test[['Id','SalePrice']]\n",
    "holly_predictions.to_csv('datasets/Holly_Preds_Ridge.csv', index=False)"
   ]
  },
  {
   "cell_type": "code",
   "execution_count": null,
   "metadata": {},
   "outputs": [],
   "source": []
  }
 ],
 "metadata": {
  "kernelspec": {
   "display_name": "Python 3",
   "language": "python",
   "name": "python3"
  },
  "language_info": {
   "codemirror_mode": {
    "name": "ipython",
    "version": 3
   },
   "file_extension": ".py",
   "mimetype": "text/x-python",
   "name": "python",
   "nbconvert_exporter": "python",
   "pygments_lexer": "ipython3",
   "version": "3.7.4"
  }
 },
 "nbformat": 4,
 "nbformat_minor": 2
}
