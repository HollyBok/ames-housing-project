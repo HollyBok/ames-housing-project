{
 "cells": [
  {
   "cell_type": "markdown",
   "metadata": {},
   "source": [
    "# LASSO Model"
   ]
  },
  {
   "cell_type": "markdown",
   "metadata": {},
   "source": [
    "##### Author: Holly Bok"
   ]
  },
  {
   "cell_type": "markdown",
   "metadata": {},
   "source": [
    "### Importing Packages  and Clean Dataset"
   ]
  },
  {
   "cell_type": "code",
   "execution_count": 1,
   "metadata": {},
   "outputs": [],
   "source": [
    "# Importing packages\n",
    "\n",
    "import pandas as pd\n",
    "import matplotlib.pyplot as plt\n",
    "from sklearn.linear_model import LassoCV\n",
    "from sklearn.model_selection import train_test_split, cross_val_score\n",
    "from sklearn.preprocessing import PolynomialFeatures, StandardScaler"
   ]
  },
  {
   "cell_type": "code",
   "execution_count": 2,
   "metadata": {},
   "outputs": [],
   "source": [
    "# Importing cleaned train data and test data\n",
    "\n",
    "train = pd.read_csv('datasets/clean_train.csv')\n",
    "test = pd.read_csv('datasets/test.csv')\n"
   ]
  },
  {
   "cell_type": "code",
   "execution_count": 3,
   "metadata": {},
   "outputs": [],
   "source": [
    "# Dropping outliers identified in the Linear Regression model. Details of this process can be found in the\n",
    "# '02 Linear Regression' file of this repository under the 'EDA aned Feature Selection' subheader\n",
    "\n",
    "train.drop([960], axis=0, inplace= True) \n",
    "train.drop([1885], axis=0, inplace= True)\n",
    "train.drop([1409], axis=0, inplace= True)\n",
    "train.drop([1566], axis=0, inplace= True)\n",
    "train.drop([1605], axis=0, inplace= True)\n",
    "train.drop([1035], axis=0, inplace= True)\n",
    "train.drop([1141], axis=0, inplace= True)\n",
    "train.drop([1939], axis=0, inplace= True)"
   ]
  },
  {
   "cell_type": "code",
   "execution_count": 4,
   "metadata": {},
   "outputs": [],
   "source": [
    "# Creating a new dataframe called numeric_train that includes all of the numeric columms\n",
    "# Filling all NaN values with 0, just as in the linear regression model\n",
    "\n",
    "numeric_columns = train._get_numeric_data().columns\n",
    "numeric_train = train[numeric_columns]\n",
    "numeric_train = numeric_train.fillna(0)"
   ]
  },
  {
   "cell_type": "markdown",
   "metadata": {},
   "source": [
    "### Train-Test-Split and Feature Transformations"
   ]
  },
  {
   "cell_type": "code",
   "execution_count": 5,
   "metadata": {},
   "outputs": [],
   "source": [
    "# Setting X and Y. X is all numeric columns except for the target column, Sale Price. Y is our target columns,\n",
    "# Sale Price.\n",
    "# Running train_test_split to split numeric_train into testing and training portions\n",
    "\n",
    "X = numeric_train.drop(columns=['SalePrice'])\n",
    "y = numeric_train['SalePrice']\n",
    "X_train, X_test, y_train, y_test = train_test_split(X, y, random_state=42)"
   ]
  },
  {
   "cell_type": "code",
   "execution_count": 6,
   "metadata": {},
   "outputs": [],
   "source": [
    "# Instantiating and fitting to polynomial features. This creates interaction terms for all of our numeric data.\n",
    "\n",
    "pf = PolynomialFeatures(include_bias=False)\n",
    "pf.fit(X_train);"
   ]
  },
  {
   "cell_type": "code",
   "execution_count": 7,
   "metadata": {},
   "outputs": [],
   "source": [
    "# Doing polynomial transformations for dependent variables on both the train and test data\n",
    "\n",
    "X_train_pf = pf.transform(X_train)\n",
    "X_test_pf = pf.transform(X_test)"
   ]
  },
  {
   "cell_type": "code",
   "execution_count": 8,
   "metadata": {},
   "outputs": [],
   "source": [
    "# Instantiating and fitting a standard scaler. This will scale all of the independent variables to be on the same\n",
    "# numeric scale.\n",
    "\n",
    "ss = StandardScaler()\n",
    "ss.fit(X_train_pf);"
   ]
  },
  {
   "cell_type": "code",
   "execution_count": 9,
   "metadata": {},
   "outputs": [],
   "source": [
    "# Doing standard scaling transformations for dependent variables on both the train and test data\n",
    "\n",
    "X_train_pfs = ss.transform(X_train_pf)\n",
    "X_test_pfs = ss.transform(X_test_pf)"
   ]
  },
  {
   "cell_type": "markdown",
   "metadata": {},
   "source": [
    "### Fitting and Scoring to LASSO Model"
   ]
  },
  {
   "cell_type": "code",
   "execution_count": 10,
   "metadata": {},
   "outputs": [],
   "source": [
    "# Instantiating a LassoCV model\n",
    "\n",
    "lcv = LassoCV(max_iter = 1500)"
   ]
  },
  {
   "cell_type": "code",
   "execution_count": 11,
   "metadata": {},
   "outputs": [
    {
     "name": "stderr",
     "output_type": "stream",
     "text": [
      "/opt/anaconda3/lib/python3.7/site-packages/sklearn/model_selection/_split.py:1978: FutureWarning: The default value of cv will change from 3 to 5 in version 0.22. Specify it explicitly to silence this warning.\n",
      "  warnings.warn(CV_WARNING, FutureWarning)\n",
      "/opt/anaconda3/lib/python3.7/site-packages/sklearn/model_selection/_split.py:1978: FutureWarning: The default value of cv will change from 3 to 5 in version 0.22. Specify it explicitly to silence this warning.\n",
      "  warnings.warn(CV_WARNING, FutureWarning)\n",
      "/opt/anaconda3/lib/python3.7/site-packages/sklearn/model_selection/_split.py:1978: FutureWarning: The default value of cv will change from 3 to 5 in version 0.22. Specify it explicitly to silence this warning.\n",
      "  warnings.warn(CV_WARNING, FutureWarning)\n",
      "/opt/anaconda3/lib/python3.7/site-packages/sklearn/linear_model/coordinate_descent.py:475: ConvergenceWarning: Objective did not converge. You might want to increase the number of iterations. Duality gap: 448955475.73313904, tolerance: 404377377.2498884\n",
      "  positive)\n",
      "/opt/anaconda3/lib/python3.7/site-packages/sklearn/model_selection/_split.py:1978: FutureWarning: The default value of cv will change from 3 to 5 in version 0.22. Specify it explicitly to silence this warning.\n",
      "  warnings.warn(CV_WARNING, FutureWarning)\n",
      "/opt/anaconda3/lib/python3.7/site-packages/sklearn/linear_model/coordinate_descent.py:475: ConvergenceWarning: Objective did not converge. You might want to increase the number of iterations. Duality gap: 458461739.91871643, tolerance: 455824083.74459946\n",
      "  positive)\n"
     ]
    },
    {
     "data": {
      "text/plain": [
       "0.916942076487099"
      ]
     },
     "execution_count": 11,
     "metadata": {},
     "output_type": "execute_result"
    }
   ],
   "source": [
    "cross_val_score(lcv, X_train_pfs, y_train).mean()"
   ]
  },
  {
   "cell_type": "code",
   "execution_count": 12,
   "metadata": {},
   "outputs": [
    {
     "name": "stderr",
     "output_type": "stream",
     "text": [
      "/opt/anaconda3/lib/python3.7/site-packages/sklearn/model_selection/_split.py:1978: FutureWarning: The default value of cv will change from 3 to 5 in version 0.22. Specify it explicitly to silence this warning.\n",
      "  warnings.warn(CV_WARNING, FutureWarning)\n"
     ]
    },
    {
     "data": {
      "text/plain": [
       "(0.9400702246522403, 0.8930934913207212)"
      ]
     },
     "execution_count": 12,
     "metadata": {},
     "output_type": "execute_result"
    }
   ],
   "source": [
    "# Scoring train and test data\n",
    "\n",
    "lcv.fit(X_train_pfs, y_train)\n",
    "lcv.score(X_train_pfs, y_train), lcv.score(X_test_pfs, y_test)"
   ]
  },
  {
   "cell_type": "code",
   "execution_count": 13,
   "metadata": {},
   "outputs": [],
   "source": [
    "# Creating a new DataFrame called \"lasso_coef\" that shows the coefficients of each feature:\n",
    "\n",
    "lasso_coef = pd.DataFrame({\n",
    "    'feature': pf.get_feature_names(numeric_columns),\n",
    "    'coef': lcv.coef_\n",
    "})"
   ]
  },
  {
   "cell_type": "code",
   "execution_count": 14,
   "metadata": {},
   "outputs": [
    {
     "data": {
      "image/png": "[encoded data removed]",
      "text/plain": [
       "<Figure size 432x288 with 1 Axes>"
      ]
     },
     "metadata": {
      "needs_background": "light"
     },
     "output_type": "display_data"
    }
   ],
   "source": [
    "# Creating a dataframe called non_zero_coefs to observe the distribution of all coefficients that are not equal\n",
    "# to 0. Plotting this distribution. \n",
    "\n",
    "non_zero_coefs = lasso_coef[lasso_coef['coef'] != 0]\n",
    "plt.hist(non_zero_coefs['coef'], bins=20);"
   ]
  },
  {
   "cell_type": "code",
   "execution_count": 15,
   "metadata": {},
   "outputs": [
    {
     "data": {
      "text/html": [
       "<div>\n",
       "<style scoped>\n",
       "    .dataframe tbody tr th:only-of-type {\n",
       "        vertical-align: middle;\n",
       "    }\n",
       "\n",
       "    .dataframe tbody tr th {\n",
       "        vertical-align: top;\n",
       "    }\n",
       "\n",
       "    .dataframe thead th {\n",
       "        text-align: right;\n",
       "    }\n",
       "</style>\n",
       "<table border=\"1\" class=\"dataframe\">\n",
       "  <thead>\n",
       "    <tr style=\"text-align: right;\">\n",
       "      <th></th>\n",
       "      <th>feature</th>\n",
       "      <th>coef</th>\n",
       "    </tr>\n",
       "  </thead>\n",
       "  <tbody>\n",
       "    <tr>\n",
       "      <th>295</th>\n",
       "      <td>Overall Qual Total Bsmt SF</td>\n",
       "      <td>13102.152339</td>\n",
       "    </tr>\n",
       "    <tr>\n",
       "      <th>875</th>\n",
       "      <td>Gr Liv Area Kitchen Qual</td>\n",
       "      <td>12277.624904</td>\n",
       "    </tr>\n",
       "    <tr>\n",
       "      <th>292</th>\n",
       "      <td>Overall Qual BsmtFin SF 1</td>\n",
       "      <td>8390.932372</td>\n",
       "    </tr>\n",
       "    <tr>\n",
       "      <th>502</th>\n",
       "      <td>Exter Qual 1st Flr SF</td>\n",
       "      <td>7411.672807</td>\n",
       "    </tr>\n",
       "    <tr>\n",
       "      <th>300</th>\n",
       "      <td>Overall Qual Gr Liv Area</td>\n",
       "      <td>6291.182103</td>\n",
       "    </tr>\n",
       "    <tr>\n",
       "      <th>372</th>\n",
       "      <td>Year Built Year Remod/Add</td>\n",
       "      <td>5574.065289</td>\n",
       "    </tr>\n",
       "    <tr>\n",
       "      <th>313</th>\n",
       "      <td>Overall Qual Garage Cars</td>\n",
       "      <td>4345.302001</td>\n",
       "    </tr>\n",
       "    <tr>\n",
       "      <th>245</th>\n",
       "      <td>Lot Area Exter Qual</td>\n",
       "      <td>4129.592544</td>\n",
       "    </tr>\n",
       "    <tr>\n",
       "      <th>608</th>\n",
       "      <td>BsmtFin SF 1^2</td>\n",
       "      <td>3866.059360</td>\n",
       "    </tr>\n",
       "    <tr>\n",
       "      <th>722</th>\n",
       "      <td>Total Bsmt SF Half Bath</td>\n",
       "      <td>3855.039193</td>\n",
       "    </tr>\n",
       "  </tbody>\n",
       "</table>\n",
       "</div>"
      ],
      "text/plain": [
       "                        feature          coef\n",
       "295  Overall Qual Total Bsmt SF  13102.152339\n",
       "875    Gr Liv Area Kitchen Qual  12277.624904\n",
       "292   Overall Qual BsmtFin SF 1   8390.932372\n",
       "502       Exter Qual 1st Flr SF   7411.672807\n",
       "300    Overall Qual Gr Liv Area   6291.182103\n",
       "372   Year Built Year Remod/Add   5574.065289\n",
       "313    Overall Qual Garage Cars   4345.302001\n",
       "245         Lot Area Exter Qual   4129.592544\n",
       "608              BsmtFin SF 1^2   3866.059360\n",
       "722     Total Bsmt SF Half Bath   3855.039193"
      ]
     },
     "execution_count": 15,
     "metadata": {},
     "output_type": "execute_result"
    }
   ],
   "source": [
    "# Masking the lasso_coef to show only coefficients that are not 0.\n",
    "# Sorting this list in descending order from the largest coefficient to the smallest.\n",
    "# Observing the top 10 negative and positive coefficients\n",
    "\n",
    "lasso_coef[lasso_coef['coef'] != 0].sort_values('coef', ascending=False).head(10)"
   ]
  },
  {
   "cell_type": "code",
   "execution_count": 16,
   "metadata": {},
   "outputs": [
    {
     "data": {
      "text/html": [
       "<div>\n",
       "<style scoped>\n",
       "    .dataframe tbody tr th:only-of-type {\n",
       "        vertical-align: middle;\n",
       "    }\n",
       "\n",
       "    .dataframe tbody tr th {\n",
       "        vertical-align: top;\n",
       "    }\n",
       "\n",
       "    .dataframe thead th {\n",
       "        text-align: right;\n",
       "    }\n",
       "</style>\n",
       "<table border=\"1\" class=\"dataframe\">\n",
       "  <thead>\n",
       "    <tr style=\"text-align: right;\">\n",
       "      <th></th>\n",
       "      <th>feature</th>\n",
       "      <th>coef</th>\n",
       "    </tr>\n",
       "  </thead>\n",
       "  <tbody>\n",
       "    <tr>\n",
       "      <th>159</th>\n",
       "      <td>MS SubClass Bsmt Unf SF</td>\n",
       "      <td>-1013.384488</td>\n",
       "    </tr>\n",
       "    <tr>\n",
       "      <th>618</th>\n",
       "      <td>BsmtFin SF 1 Bsmt Half Bath</td>\n",
       "      <td>-1033.905102</td>\n",
       "    </tr>\n",
       "    <tr>\n",
       "      <th>137</th>\n",
       "      <td>PID Open Porch SF</td>\n",
       "      <td>-1202.619265</td>\n",
       "    </tr>\n",
       "    <tr>\n",
       "      <th>586</th>\n",
       "      <td>Bsmt Cond Kitchen AbvGr</td>\n",
       "      <td>-1208.639513</td>\n",
       "    </tr>\n",
       "    <tr>\n",
       "      <th>670</th>\n",
       "      <td>BsmtFin SF 2 Open Porch SF</td>\n",
       "      <td>-1319.138556</td>\n",
       "    </tr>\n",
       "    <tr>\n",
       "      <th>1004</th>\n",
       "      <td>Bedroom AbvGr Garage Yr Blt</td>\n",
       "      <td>-1548.253476</td>\n",
       "    </tr>\n",
       "    <tr>\n",
       "      <th>538</th>\n",
       "      <td>Exter Cond Total Bsmt SF</td>\n",
       "      <td>-1717.412832</td>\n",
       "    </tr>\n",
       "    <tr>\n",
       "      <th>621</th>\n",
       "      <td>BsmtFin SF 1 Bedroom AbvGr</td>\n",
       "      <td>-2805.508825</td>\n",
       "    </tr>\n",
       "    <tr>\n",
       "      <th>456</th>\n",
       "      <td>Mas Vnr Area Exter Cond</td>\n",
       "      <td>-3919.927518</td>\n",
       "    </tr>\n",
       "    <tr>\n",
       "      <th>974</th>\n",
       "      <td>Half Bath^2</td>\n",
       "      <td>-4545.294583</td>\n",
       "    </tr>\n",
       "  </tbody>\n",
       "</table>\n",
       "</div>"
      ],
      "text/plain": [
       "                          feature         coef\n",
       "159       MS SubClass Bsmt Unf SF -1013.384488\n",
       "618   BsmtFin SF 1 Bsmt Half Bath -1033.905102\n",
       "137             PID Open Porch SF -1202.619265\n",
       "586       Bsmt Cond Kitchen AbvGr -1208.639513\n",
       "670    BsmtFin SF 2 Open Porch SF -1319.138556\n",
       "1004  Bedroom AbvGr Garage Yr Blt -1548.253476\n",
       "538      Exter Cond Total Bsmt SF -1717.412832\n",
       "621    BsmtFin SF 1 Bedroom AbvGr -2805.508825\n",
       "456       Mas Vnr Area Exter Cond -3919.927518\n",
       "974                   Half Bath^2 -4545.294583"
      ]
     },
     "execution_count": 16,
     "metadata": {},
     "output_type": "execute_result"
    }
   ],
   "source": [
    "lasso_coef[lasso_coef['coef'] != 0].sort_values('coef', ascending=False).tail(10)"
   ]
  },
  {
   "cell_type": "markdown",
   "metadata": {},
   "source": [
    "### Generating Predictions for Test Dataset"
   ]
  },
  {
   "cell_type": "code",
   "execution_count": 17,
   "metadata": {},
   "outputs": [],
   "source": [
    "# Converting the test dataframe columns to match train dataframe\n",
    "\n",
    "test['PID'] = test['PID'].astype(object)\n",
    "\n",
    "def rank_test_column(column):   \n",
    "    test[column] = test[column].str.replace('Ex', '5')\n",
    "    test[column] = test[column].str.replace('Gd', '4')\n",
    "    test[column] = test[column].str.replace('TA', '3')\n",
    "    test[column] = test[column].str.replace('Fa', '2')\n",
    "    test[column] = test[column].str.replace('Po', '1')\n",
    "    test[column] = test[column].fillna(0)\n",
    "    test[column] = test[column].astype(int)\n",
    "    return\n",
    "\n",
    "rank_test_column('Exter Qual')\n",
    "rank_test_column('Exter Cond')\n",
    "rank_test_column('Heating QC')\n",
    "rank_test_column('Kitchen Qual')\n",
    "rank_test_column('Garage Qual')\n",
    "rank_test_column('Garage Cond')\n",
    "rank_test_column('Pool QC')\n",
    "rank_test_column('Bsmt Cond')"
   ]
  },
  {
   "cell_type": "code",
   "execution_count": 18,
   "metadata": {},
   "outputs": [],
   "source": [
    "test['Paved Drive'] = test['Paved Drive'].str.replace('Y', '3')\n",
    "test['Paved Drive'] = test['Paved Drive'].str.replace('P', '2')\n",
    "test['Paved Drive'] = test['Paved Drive'].str.replace('N', '1')\n",
    "test['Paved Drive'] = test['Paved Drive'].astype(int)"
   ]
  },
  {
   "cell_type": "code",
   "execution_count": 19,
   "metadata": {},
   "outputs": [],
   "source": [
    "test['Functional'] = test['Functional'].str.replace('Typ', '6')\n",
    "test['Functional'] = test['Functional'].str.replace('Min2', '5')\n",
    "test['Functional'] = test['Functional'].str.replace('Min1', '5')\n",
    "test['Functional'] = test['Functional'].str.replace('Mod', '4')\n",
    "test['Functional'] = test['Functional'].str.replace('Maj1', '3')\n",
    "test['Functional'] = test['Functional'].str.replace('Maj2', '3')\n",
    "test['Functional'] = test['Functional'].str.replace('Sev', '2')\n",
    "test['Functional'] = test['Functional'].str.replace('Sal', '1')\n",
    "test['Functional'] = test['Functional'].astype(int)"
   ]
  },
  {
   "cell_type": "code",
   "execution_count": 20,
   "metadata": {},
   "outputs": [],
   "source": [
    "test['Garage Finish'] = test['Garage Finish'].str.replace('Fin', '3')\n",
    "test['Garage Finish'] = test['Garage Finish'].str.replace('RFn', '2')\n",
    "test['Garage Finish'] = test['Garage Finish'].str.replace('Unf', '1')\n",
    "test['Garage Finish'] = test['Garage Finish'].fillna(0)\n",
    "test['Garage Finish'] = test['Garage Finish'].astype(int)"
   ]
  },
  {
   "cell_type": "code",
   "execution_count": 21,
   "metadata": {},
   "outputs": [],
   "source": [
    "# Creating a list of features equal to the independent variables.\n",
    "# Creating a new dataframe called test_numeric by masking the original test dataframe with \"features\"\n",
    "# Filling NaN values with 0 to match training dataset\n",
    "\n",
    "features = numeric_columns.drop(['SalePrice'])\n",
    "test_numeric = test[features]\n",
    "test_numeric = test_numeric.fillna(0)"
   ]
  },
  {
   "cell_type": "code",
   "execution_count": 22,
   "metadata": {},
   "outputs": [],
   "source": [
    "# Transforming test_numeric using polynomial transformation and standard scaler\n",
    "\n",
    "test_numeric_pf = pf.transform(test_numeric)\n",
    "test_numeric_pfs = ss.transform(test_numeric_pf)"
   ]
  },
  {
   "cell_type": "code",
   "execution_count": 23,
   "metadata": {},
   "outputs": [],
   "source": [
    "# Generating predictions and saving predictions as a new column\n",
    "\n",
    "predictions = lcv.predict(test_numeric_pfs)\n",
    "test['SalePrice'] = predictions"
   ]
  },
  {
   "cell_type": "code",
   "execution_count": 24,
   "metadata": {},
   "outputs": [],
   "source": [
    "# Writing csv file with Lasso predictions\n",
    "\n",
    "holly_predictions = test[['Id','SalePrice']]\n",
    "holly_predictions.to_csv('datasets/Holly_Preds_Lasso.csv', index=False)"
   ]
  }
 ],
 "metadata": {
  "kernelspec": {
   "display_name": "Python 3",
   "language": "python",
   "name": "python3"
  },
  "language_info": {
   "codemirror_mode": {
    "name": "ipython",
    "version": 3
   },
   "file_extension": ".py",
   "mimetype": "text/x-python",
   "name": "python",
   "nbconvert_exporter": "python",
   "pygments_lexer": "ipython3",
   "version": "3.7.4"
  }
 },
 "nbformat": 4,
 "nbformat_minor": 2
}
